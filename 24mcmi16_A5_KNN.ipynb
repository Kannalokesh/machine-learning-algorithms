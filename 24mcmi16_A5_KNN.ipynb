{
 "cells": [
  {
   "cell_type": "markdown",
   "id": "789d84d4-3778-4aa0-84ee-864f1e81b42a",
   "metadata": {},
   "source": [
    "Implementing K Nearest Neighbour"
   ]
  },
  {
   "cell_type": "code",
   "execution_count": 1,
   "id": "1c4028b5-d8bd-4de3-84b4-8860cf1a0c6c",
   "metadata": {},
   "outputs": [],
   "source": [
    "import numpy as np\n",
    "import pandas as pd\n",
    "import matplotlib.pyplot as plt\n",
    "import random\n",
    "import sklearn\n",
    "from sklearn import datasets\n",
    "from sklearn.model_selection import train_test_split\n",
    "from collections import Counter"
   ]
  },
  {
   "cell_type": "code",
   "execution_count": 2,
   "id": "b3d281a0-d8a7-4379-9ecf-b10c1b66968b",
   "metadata": {},
   "outputs": [],
   "source": [
    "iris=datasets.load_iris()\n",
    "x=iris.data\n",
    "y=iris.target"
   ]
  },
  {
   "cell_type": "code",
   "execution_count": 3,
   "id": "cb22432d-b08b-493e-81f0-4ccb5c21ef7a",
   "metadata": {},
   "outputs": [],
   "source": [
    "x_train,x_test,y_train,y_test=train_test_split(x,y,train_size=0.8,random_state=123)"
   ]
  },
  {
   "cell_type": "code",
   "execution_count": 4,
   "id": "96472eb8-63ce-4232-b3ac-bf1b23dcd044",
   "metadata": {},
   "outputs": [],
   "source": [
    "#distance\n",
    "def eu_dist(p1,p2):\n",
    "    return np.sqrt(np.sum((p1-p2)**2))"
   ]
  },
  {
   "cell_type": "code",
   "execution_count": 5,
   "id": "7d28aa37-15bf-4b84-8033-ea5a15bf6fd5",
   "metadata": {},
   "outputs": [],
   "source": [
    "#predicting the class\n",
    "def knn_pred(x1_train,y1_train,x1_test,k):\n",
    "    pred=[]\n",
    "    for x1 in x1_test:\n",
    "        dist=[eu_dist(x1,x2) for x2 in x1_train]\n",
    "        indices=np.argsort(dist)[:k]\n",
    "        k_labels=[y1_train[i] for i in indices]\n",
    "        voting=Counter(k_labels).most_common()\n",
    "        pred.append(int(voting[0][0]))\n",
    "    return pred     "
   ]
  },
  {
   "cell_type": "code",
   "execution_count": 6,
   "id": "8b4ddc5e-a814-4ea6-8da9-4ece72a74982",
   "metadata": {},
   "outputs": [
    {
     "name": "stdout",
     "output_type": "stream",
     "text": [
      "[2, 2, 2, 1, 0, 2, 1, 0, 0, 1, 2, 0, 1, 2, 2, 2, 0, 0, 1, 0, 0, 2, 0, 2, 0, 0, 0, 2, 2, 0]\n"
     ]
    }
   ],
   "source": [
    "#prections for test data\n",
    "k=5\n",
    "prediction=knn_pred(x_train,y_train,x_test,k)\n",
    "print(prediction)"
   ]
  },
  {
   "cell_type": "code",
   "execution_count": 7,
   "id": "90b7e04b-2306-4359-bb16-5af1313560af",
   "metadata": {},
   "outputs": [
    {
     "name": "stdout",
     "output_type": "stream",
     "text": [
      "0.9666666666666667\n"
     ]
    }
   ],
   "source": [
    "#accuracy\n",
    "accuracy=np.sum(prediction==y_test)/len(y_test)\n",
    "print(accuracy)"
   ]
  },
  {
   "cell_type": "code",
   "execution_count": null,
   "id": "23328f64-2d43-4429-806e-80d66d50312b",
   "metadata": {},
   "outputs": [],
   "source": []
  }
 ],
 "metadata": {
  "kernelspec": {
   "display_name": "Python 3",
   "language": "python",
   "name": "python3"
  },
  "language_info": {
   "codemirror_mode": {
    "name": "ipython",
    "version": 3
   },
   "file_extension": ".py",
   "mimetype": "text/x-python",
   "name": "python",
   "nbconvert_exporter": "python",
   "pygments_lexer": "ipython3",
   "version": "3.12.6"
  }
 },
 "nbformat": 4,
 "nbformat_minor": 5
}
