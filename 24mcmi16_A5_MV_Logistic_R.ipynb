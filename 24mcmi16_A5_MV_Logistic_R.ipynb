{
 "cells": [
  {
   "cell_type": "markdown",
   "id": "b424c5d1-01c8-4bd1-892b-832cc0e4dff0",
   "metadata": {},
   "source": [
    "Multivariate Logistic Regression Implementation"
   ]
  },
  {
   "cell_type": "code",
   "execution_count": 23,
   "id": "043a7e1c-db60-44e3-94bf-d8511d80a94d",
   "metadata": {},
   "outputs": [],
   "source": [
    "import numpy as np\n",
    "import matplotlib.pyplot as plt\n",
    "from sklearn.datasets import load_breast_cancer\n",
    "from sklearn.model_selection import train_test_split\n",
    "from sklearn.preprocessing import StandardScaler"
   ]
  },
  {
   "cell_type": "code",
   "execution_count": 24,
   "id": "7414029c-a37f-4711-adb3-9ae197e2853d",
   "metadata": {},
   "outputs": [],
   "source": [
    "def initialization(lenw):\n",
    "    w = np.random.randn(1, lenw)\n",
    "    b = 0\n",
    "    return w, b"
   ]
  },
  {
   "cell_type": "code",
   "execution_count": 25,
   "id": "74a7a6d6-175a-4b9e-814e-57777a31f692",
   "metadata": {},
   "outputs": [],
   "source": [
    "def sigmoid(z):\n",
    "    a = 1 / (1 + np.exp(-z))\n",
    "    return a"
   ]
  },
  {
   "cell_type": "code",
   "execution_count": 26,
   "id": "5ced84c1-9d9c-48b2-9b7b-69abd269ad0f",
   "metadata": {},
   "outputs": [],
   "source": [
    "def forward(x, w, b):\n",
    "    z = np.dot(w, x) + b\n",
    "    a = sigmoid(z)\n",
    "    return a"
   ]
  },
  {
   "cell_type": "code",
   "execution_count": 27,
   "id": "f069ae64-5e05-48d4-9be6-8910f2f5ecde",
   "metadata": {},
   "outputs": [],
   "source": [
    "def cost(a, y):\n",
    "    m = y.shape[1]\n",
    "    epsilon = 1e-15  \n",
    "    j = -(1/m) * np.sum(y * np.log(a + epsilon) + (1 - y) * np.log(1 - a + epsilon))\n",
    "    return j"
   ]
  },
  {
   "cell_type": "code",
   "execution_count": 28,
   "id": "dbd47e7d-e8ea-4574-9364-11cd21287103",
   "metadata": {},
   "outputs": [],
   "source": [
    "def backpropagation(x, y, a):\n",
    "    m = x.shape[1]\n",
    "    dz = a - y  \n",
    "    dw = (1/m) * np.dot(dz, x.T)\n",
    "    db = (1/m) * np.sum(dz)\n",
    "    return dw, db"
   ]
  },
  {
   "cell_type": "code",
   "execution_count": 29,
   "id": "38147c3e-6a4d-4f86-bacb-35a13b308f19",
   "metadata": {},
   "outputs": [],
   "source": [
    "def gradient(w, b, dw, db, lr):\n",
    "    w = w - lr * dw\n",
    "    b = b - lr * db\n",
    "    return w, b"
   ]
  },
  {
   "cell_type": "code",
   "execution_count": 30,
   "id": "05f84777-1453-4ec7-8c50-8f77fad68c43",
   "metadata": {},
   "outputs": [],
   "source": [
    "# Load dataset\n",
    "data = load_breast_cancer()\n",
    "X = data.data      \n",
    "y = data.target    \n",
    "\n",
    "# Standardize the features for better convergence\n",
    "scaler = StandardScaler()\n",
    "X_scaled = scaler.fit_transform(X)\n",
    "X_scaled = X_scaled.T\n",
    "\n",
    "# Reshape y to have shape (1, m)\n",
    "y = y.reshape(1, -1)\n",
    "\n",
    "# Split the dataset into training and test sets.\n",
    "X_train, X_test, y_train, y_test = train_test_split(X_scaled.T, y.T, test_size=0.2, random_state=42)\n",
    "X_train = X_train.T  \n",
    "X_test = X_test.T   \n",
    "y_train = y_train.T \n",
    "y_test = y_test.T "
   ]
  },
  {
   "cell_type": "code",
   "execution_count": 31,
   "id": "962d7063-78b9-486d-9b81-c3904b4f0c47",
   "metadata": {},
   "outputs": [
    {
     "name": "stdout",
     "output_type": "stream",
     "text": [
      "Iteration 0: Cost = 3.5354722364524287\n",
      "Iteration 100: Cost = 0.8446876402515909\n",
      "Iteration 200: Cost = 0.5055012752489609\n",
      "Iteration 300: Cost = 0.38716950058684346\n",
      "Iteration 400: Cost = 0.3214309030263997\n",
      "Iteration 500: Cost = 0.27772638132801103\n",
      "Iteration 600: Cost = 0.24567934659277632\n",
      "Iteration 700: Cost = 0.22097063855080962\n",
      "Iteration 800: Cost = 0.20126231841426265\n",
      "Iteration 900: Cost = 0.1851068609586031\n",
      "Iteration 1000: Cost = 0.17156680367894997\n",
      "\n",
      "Learned parameters:\n",
      "Weights: [[-1.02729336  0.55553561 -0.56410437 -0.91320882 -1.63717505  1.80407154\n",
      "  -1.17196311 -0.80433422 -0.17170889  1.40322582  0.41354757 -0.68241015\n",
      "  -1.19581107 -0.43794496  1.0091272   0.45212863 -0.32304662 -0.07989744\n",
      "   0.28171524 -0.36519775  1.35149542 -0.86557655  0.2444073  -0.17050752\n",
      "  -0.20285726 -0.33211581 -1.22458235 -1.23786392 -0.14458542 -0.05975851]]\n",
      "Bias: 0.5334826166492086\n"
     ]
    }
   ],
   "source": [
    "n_features = X_train.shape[0]\n",
    "w, b = initialization(n_features)\n",
    "\n",
    "lr= 0.01\n",
    "n_iterations = 1000\n",
    "costs= []\n",
    "\n",
    "for i in range(n_iterations+1):\n",
    "    a = forward(X_train, w, b)  \n",
    "    j = cost(a, y_train)\n",
    "    costs.append(j)\n",
    "    dw, db = backpropagation(X_train, y_train, a)\n",
    "    w, b = gradient(w, b, dw, db, lr)\n",
    "    \n",
    "    if i % 100 == 0:\n",
    "        print(f\"Iteration {i}: Cost = {j}\")\n",
    "\n",
    "print(\"\\nLearned parameters:\")\n",
    "print(\"Weights:\", w)\n",
    "print(\"Bias:\", b)"
   ]
  },
  {
   "cell_type": "code",
   "execution_count": 32,
   "id": "f20ef3a9-934e-4bb5-8caa-7c9914bdc724",
   "metadata": {},
   "outputs": [
    {
     "name": "stdout",
     "output_type": "stream",
     "text": [
      "\n",
      "Test set cost: 0.13794596707475518\n"
     ]
    }
   ],
   "source": [
    "#testing\n",
    "a_test = forward(X_test, w, b)\n",
    "test_cost = cost(a_test, y_test)\n",
    "print(\"\\nTest set cost:\", test_cost)"
   ]
  },
  {
   "cell_type": "code",
   "execution_count": 33,
   "id": "ecd88348-f3d3-43ed-8b15-b813d8c5d685",
   "metadata": {},
   "outputs": [
    {
     "name": "stdout",
     "output_type": "stream",
     "text": [
      "Test set accuracy: 93.86%\n"
     ]
    }
   ],
   "source": [
    "# Converting predicted probabilities to binary predictions using 0.5 threshold\n",
    "predictions = (a_test >= 0.5).astype(int)\n",
    "\n",
    "# Computing accuracy\n",
    "accuracy = np.mean(predictions == y_test) * 100\n",
    "print(\"Test set accuracy: {:.2f}%\".format(accuracy))"
   ]
  },
  {
   "cell_type": "code",
   "execution_count": 34,
   "id": "2bba9775-2776-40a7-9ce6-52726327e346",
   "metadata": {},
   "outputs": [
    {
     "data": {
      "image/png": "[encoded data removed]",
      "text/plain": [
       "<Figure size 640x480 with 1 Axes>"
      ]
     },
     "metadata": {},
     "output_type": "display_data"
    }
   ],
   "source": [
    "# Plotting\n",
    "plt.plot(costs)\n",
    "plt.xlabel(\"Iterations\")\n",
    "plt.ylabel(\"Cost\")\n",
    "plt.title(\"Cost Function Convergence on Breast Cancer Data\")\n",
    "plt.show()\n"
   ]
  },
  {
   "cell_type": "code",
   "execution_count": null,
   "id": "a69a29a3-6310-420e-815f-9fec34055f42",
   "metadata": {},
   "outputs": [],
   "source": []
  }
 ],
 "metadata": {
  "kernelspec": {
   "display_name": "Python 3 (ipykernel)",
   "language": "python",
   "name": "python3"
  },
  "language_info": {
   "codemirror_mode": {
    "name": "ipython",
    "version": 3
   },
   "file_extension": ".py",
   "mimetype": "text/x-python",
   "name": "python",
   "nbconvert_exporter": "python",
   "pygments_lexer": "ipython3",
   "version": "3.12.6"
  }
 },
 "nbformat": 4,
 "nbformat_minor": 5
}
