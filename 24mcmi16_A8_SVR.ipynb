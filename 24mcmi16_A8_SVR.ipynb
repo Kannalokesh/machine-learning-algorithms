{
 "cells": [
  {
   "cell_type": "markdown",
   "id": "ffa7f8ad-38a0-4501-a1b1-79229013df23",
   "metadata": {},
   "source": [
    "Implementing Support Vector Regression"
   ]
  },
  {
   "cell_type": "code",
   "execution_count": 1,
   "id": "072f3deb-1c26-4ab4-9c34-d13f802b8135",
   "metadata": {},
   "outputs": [],
   "source": [
    "import numpy as np\n",
    "from sklearn.datasets import fetch_california_housing\n",
    "from sklearn.model_selection import train_test_split\n",
    "from sklearn.preprocessing import StandardScaler\n",
    "from sklearn.metrics import mean_absolute_error, mean_squared_error"
   ]
  },
  {
   "cell_type": "code",
   "execution_count": 8,
   "id": "b152a65e-8362-4233-89fc-7bfe34da7146",
   "metadata": {},
   "outputs": [
    {
     "name": "stdout",
     "output_type": "stream",
     "text": [
      "Training shape: (16512, 8)\n",
      "Test shape: (4128, 8)\n"
     ]
    }
   ],
   "source": [
    "# Load the California Housing dataset\n",
    "data = fetch_california_housing()\n",
    "X= data.data\n",
    "y= data.target\n",
    "\n",
    "# Split into training and testing sets\n",
    "X_train, X_test, y_train, y_test = train_test_split(X, y, train_size=0.8, random_state=10)\n",
    "\n",
    "# Standardize features (critical for SVR)\n",
    "scaler = StandardScaler()\n",
    "X_train = scaler.fit_transform(X_train)\n",
    "X_test = scaler.transform(X_test)\n",
    "\n",
    "print(\"Training shape:\", X_train.shape)\n",
    "print(\"Test shape:\", X_test.shape)"
   ]
  },
  {
   "cell_type": "code",
   "execution_count": 9,
   "id": "17528f22-bc3d-4986-83e1-980aebe24a47",
   "metadata": {},
   "outputs": [],
   "source": [
    "class SVR:\n",
    "    def __init__(self, C=1.0, epsilon=0.1, learning_rate=0.001, max_iter=1000):\n",
    "        self.C = C                   # Regularization parameter\n",
    "        self.epsilon = epsilon       # Epsilon for epsilon-insensitive loss\n",
    "        self.learning_rate = learning_rate\n",
    "        self.max_iter = max_iter\n",
    "        self.w = None                # Weights\n",
    "        self.b = None                # Bias\n",
    "\n",
    "    def fit(self, X, y):\n",
    "        n_samples, n_features = X.shape\n",
    "        self.w = np.zeros(n_features)\n",
    "        self.b = 0\n",
    "\n",
    "        for _ in range(self.max_iter):\n",
    "            y_pred = np.dot(X, self.w) + self.b\n",
    "            errors = y_pred - y\n",
    "\n",
    "            # Identify samples outside the epsilon tube\n",
    "            mask = np.abs(errors) > self.epsilon\n",
    "            X_masked = X[mask]\n",
    "            errors_masked = errors[mask]\n",
    "\n",
    "            if len(errors_masked) > 0:\n",
    "                # Compute gradients\n",
    "                grad_w = (np.sign(errors_masked).T.dot(X_masked) / len(X_masked) + (self.w / self.C))\n",
    "                grad_b = np.sum(np.sign(errors_masked)) / len(X_masked)\n",
    "            else:\n",
    "                grad_w = self.w / self.C\n",
    "                grad_b = 0\n",
    "\n",
    "            # Update parameters\n",
    "            self.w -= self.learning_rate * grad_w\n",
    "            self.b -= self.learning_rate * grad_b\n",
    "\n",
    "    def predict(self, X):\n",
    "        return np.dot(X, self.w) + self.b"
   ]
  },
  {
   "cell_type": "code",
   "execution_count": 10,
   "id": "b63125bc-e55c-46bf-9fd1-d26df11f5f64",
   "metadata": {},
   "outputs": [],
   "source": [
    "# Initialize and train the custom SVR\n",
    "custom_svr = SVR(C=1.0, epsilon=0.5, learning_rate=0.001, max_iter=5000)\n",
    "custom_svr.fit(X_train, y_train)"
   ]
  },
  {
   "cell_type": "code",
   "execution_count": 11,
   "id": "dbcbf272-6e04-4c1b-acfd-cb6b7e217e9a",
   "metadata": {},
   "outputs": [],
   "source": [
    "# Predictions\n",
    "y_pred_train = custom_svr.predict(X_train)\n",
    "y_pred_test = custom_svr.predict(X_test)"
   ]
  },
  {
   "cell_type": "code",
   "execution_count": 12,
   "id": "40d7d9d4-8fd5-4108-8e7e-75f608a7c27a",
   "metadata": {},
   "outputs": [
    {
     "name": "stdout",
     "output_type": "stream",
     "text": [
      "\n",
      "Custom SVR Performance:\n",
      "Train MAE: 0.6350\n",
      "Test MAE: 0.6465\n",
      "Train MSE: 0.7311\n",
      "Test MSE: 0.7549\n"
     ]
    }
   ],
   "source": [
    "# Evaluate performance\n",
    "print(\"\\nCustom SVR Performance:\")\n",
    "print(f\"Train MAE: {mean_absolute_error(y_train, y_pred_train):.4f}\")\n",
    "print(f\"Test MAE: {mean_absolute_error(y_test, y_pred_test):.4f}\")\n",
    "print(f\"Train MSE: {mean_squared_error(y_train, y_pred_train):.4f}\")\n",
    "print(f\"Test MSE: {mean_squared_error(y_test, y_pred_test):.4f}\")"
   ]
  },
  {
   "cell_type": "code",
   "execution_count": null,
   "id": "31e6d6ab-c516-49ca-8e32-f13e9140c045",
   "metadata": {},
   "outputs": [],
   "source": []
  }
 ],
 "metadata": {
  "kernelspec": {
   "display_name": "Python 3 (ipykernel)",
   "language": "python",
   "name": "python3"
  },
  "language_info": {
   "codemirror_mode": {
    "name": "ipython",
    "version": 3
   },
   "file_extension": ".py",
   "mimetype": "text/x-python",
   "name": "python",
   "nbconvert_exporter": "python",
   "pygments_lexer": "ipython3",
   "version": "3.12.6"
  }
 },
 "nbformat": 4,
 "nbformat_minor": 5
}
