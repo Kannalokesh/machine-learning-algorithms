{
  "cells": [
    {
      "cell_type": "markdown",
      "metadata": {},
      "source": [
        "Implement Bayesian classifier - Discrete Data"
      ]
    },
    {
      "cell_type": "code",
      "execution_count": 2,
      "metadata": {
        "id": "Iu7I7N-oLSvB"
      },
      "outputs": [],
      "source": [
        "import numpy as np\n",
        "import matplotlib.pyplot as plt\n",
        "%matplotlib inline"
      ]
    },
    {
      "cell_type": "code",
      "execution_count": 7,
      "metadata": {
        "id": "1odV2KzaLXAG"
      },
      "outputs": [],
      "source": [
        "np.random.seed(10)\n",
        "n_samples = 100\n",
        "discrete_class0 = np.random.choice([0, 1, 2], size=(n_samples, 2))\n",
        "discrete_class1 = np.random.choice([1, 2, 3], size=(n_samples, 2))\n",
        "X_discrete = np.vstack((discrete_class0, discrete_class1))\n",
        "y_discrete = np.array([0] * n_samples + [1] * n_samples)"
      ]
    },
    {
      "cell_type": "code",
      "execution_count": 8,
      "metadata": {
        "id": "Jyzh_lLtLcb0"
      },
      "outputs": [],
      "source": [
        "def bayesian_discrete_classifier(X_train, y_train, X_test):\n",
        "    classes = np.unique(y_train)\n",
        "    n_features = X_train.shape[1]\n",
        "    priors = {}\n",
        "    likelihoods = {}\n",
        "\n",
        "    for c in classes:\n",
        "        X_c = X_train[y_train == c]\n",
        "        priors[c] = len(X_c) / len(X_train)\n",
        "        likelihoods[c] = []\n",
        "        for f in range(n_features):\n",
        "            values, counts = np.unique(X_c[:, f], return_counts=True)\n",
        "            prob = counts / len(X_c)\n",
        "            likelihoods[c].append(dict(zip(values, prob)))\n",
        "\n",
        "    predictions = []\n",
        "    for x in X_test:\n",
        "        posteriors = []\n",
        "        for c in classes:\n",
        "            posterior = np.log(priors[c])\n",
        "            for f in range(n_features):\n",
        "                value = x[f]\n",
        "                prob = likelihoods[c][f].get(value, 1e-6)\n",
        "                posterior += np.log(prob)\n",
        "            posteriors.append(posterior)\n",
        "        predictions.append(classes[np.argmax(posteriors)])\n",
        "    return np.array(predictions)"
      ]
    },
    {
      "cell_type": "code",
      "execution_count": 9,
      "metadata": {
        "colab": {
          "base_uri": "https://localhost:8080/"
        },
        "id": "XwEYvO67LfGF",
        "outputId": "dacd932d-ff64-4346-861a-388c17a92070"
      },
      "outputs": [
        {
          "name": "stdout",
          "output_type": "stream",
          "text": [
            "Discrete Data Accuracy: 0.7750\n"
          ]
        }
      ],
      "source": [
        "train_idx = np.random.choice(2 * n_samples, size=int(0.8 * 2 * n_samples), replace=False)\n",
        "test_idx = np.setdiff1d(np.arange(2 * n_samples), train_idx)\n",
        "X_train, y_train = X_discrete[train_idx], y_discrete[train_idx]\n",
        "X_test, y_test = X_discrete[test_idx], y_discrete[test_idx]\n",
        "y_pred = bayesian_discrete_classifier(X_train, y_train, X_test)\n",
        "accuracy = np.mean(y_pred == y_test)\n",
        "print(f\"Discrete Data Accuracy: {accuracy:.4f}\")"
      ]
    },
    {
      "cell_type": "code",
      "execution_count": 10,
      "metadata": {
        "colab": {
          "base_uri": "https://localhost:8080/",
          "height": 410
        },
        "id": "Gtk6Eo_rJ7rL",
        "outputId": "dc7d0b20-78e3-4832-c11d-9dfcf5980b93"
      },
      "outputs": [
        {
          "data": {
            "image/png": "[encoded data removed]",
            "text/plain": [
              "<Figure size 600x400 with 1 Axes>"
            ]
          },
          "metadata": {},
          "output_type": "display_data"
        }
      ],
      "source": [
        "plt.figure(figsize=(6, 4))\n",
        "plt.scatter(X_discrete[y_discrete == 0, 0], X_discrete[y_discrete == 0, 1], c='pink', label='Class 0')\n",
        "plt.scatter(X_discrete[y_discrete == 1, 0], X_discrete[y_discrete == 1, 1], c='blue', label='Class 1')\n",
        "plt.title(f\"Discrete Data (Accuracy: {accuracy:.4f})\")\n",
        "plt.xlabel(\"Feature 1\")\n",
        "plt.ylabel(\"Feature 2\")\n",
        "plt.legend()\n",
        "plt.show()"
      ]
    },
    {
      "cell_type": "code",
      "execution_count": null,
      "metadata": {},
      "outputs": [],
      "source": [
        "\n"
      ]
    }
  ],
  "metadata": {
    "colab": {
      "provenance": []
    },
    "kernelspec": {
      "display_name": "Python 3",
      "name": "python3"
    },
    "language_info": {
      "codemirror_mode": {
        "name": "ipython",
        "version": 3
      },
      "file_extension": ".py",
      "mimetype": "text/x-python",
      "name": "python",
      "nbconvert_exporter": "python",
      "pygments_lexer": "ipython3",
      "version": "3.12.6"
    }
  },
  "nbformat": 4,
  "nbformat_minor": 0
}
