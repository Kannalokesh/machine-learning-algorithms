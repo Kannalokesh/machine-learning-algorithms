{
  "cells": [
    {
      "cell_type": "markdown",
      "metadata": {},
      "source": [
        "Implement Bayesian classifier - Binary data"
      ]
    },
    {
      "cell_type": "code",
      "execution_count": 1,
      "metadata": {
        "id": "5uAPcR_pL_iP"
      },
      "outputs": [],
      "source": [
        "import numpy as np\n",
        "import matplotlib.pyplot as plt\n",
        "%matplotlib inline"
      ]
    },
    {
      "cell_type": "code",
      "execution_count": 6,
      "metadata": {
        "id": "5X2SzsDrMDJo"
      },
      "outputs": [],
      "source": [
        "np.random.seed(10)\n",
        "n_samples = 100\n",
        "binary_class0 = np.random.binomial(1, 0.3, size=(n_samples, 2))\n",
        "binary_class1 = np.random.binomial(1, 0.7, size=(n_samples, 2))\n",
        "X_binary = np.vstack((binary_class0, binary_class1))\n",
        "y_binary = np.array([0] * n_samples + [1] * n_samples)"
      ]
    },
    {
      "cell_type": "code",
      "execution_count": 7,
      "metadata": {
        "id": "wgFl_HzUMFlb"
      },
      "outputs": [],
      "source": [
        "def bayesian_binary_classifier(X_train, y_train, X_test):\n",
        "    classes = np.unique(y_train)\n",
        "    n_features = X_train.shape[1]\n",
        "    priors = {}\n",
        "    likelihoods = {}\n",
        "\n",
        "    for c in classes:\n",
        "        X_c = X_train[y_train == c]\n",
        "        priors[c] = len(X_c) / len(X_train)\n",
        "        likelihoods[c] = [np.mean(X_c[:, f]) for f in range(n_features)]\n",
        "\n",
        "    predictions = []\n",
        "    for x in X_test:\n",
        "        posteriors = []\n",
        "        for c in classes:\n",
        "            posterior = np.log(priors[c])\n",
        "            for f in range(n_features):\n",
        "                p = likelihoods[c][f]\n",
        "                posterior += x[f] * np.log(p + 1e-6) + (1 - x[f]) * np.log(1 - p + 1e-6)\n",
        "            posteriors.append(posterior)\n",
        "        predictions.append(classes[np.argmax(posteriors)])\n",
        "    return np.array(predictions)"
      ]
    },
    {
      "cell_type": "code",
      "execution_count": 8,
      "metadata": {
        "colab": {
          "base_uri": "https://localhost:8080/"
        },
        "id": "-w0xBEfKMNJB",
        "outputId": "cc36fe66-5d9d-42c1-b1d5-cbd7dfd38295"
      },
      "outputs": [
        {
          "name": "stdout",
          "output_type": "stream",
          "text": [
            "Binary Data Accuracy: 0.6250\n"
          ]
        }
      ],
      "source": [
        "train_idx = np.random.choice(2 * n_samples, size=int(0.8 * 2 * n_samples), replace=False)\n",
        "test_idx = np.setdiff1d(np.arange(2 * n_samples), train_idx)\n",
        "X_train, y_train = X_binary[train_idx], y_binary[train_idx]\n",
        "X_test, y_test = X_binary[test_idx], y_binary[test_idx]\n",
        "y_pred = bayesian_binary_classifier(X_train, y_train, X_test)\n",
        "accuracy = np.mean(y_pred == y_test)\n",
        "print(f\"Binary Data Accuracy: {accuracy:.4f}\")"
      ]
    },
    {
      "cell_type": "code",
      "execution_count": 10,
      "metadata": {
        "colab": {
          "base_uri": "https://localhost:8080/",
          "height": 410
        },
        "id": "i9ms-2wyK6y-",
        "outputId": "b43f1e71-04f1-4d02-af1f-a987013e5e37"
      },
      "outputs": [
        {
          "data": {
            "image/png": "[encoded data removed]",
            "text/plain": [
              "<Figure size 600x400 with 1 Axes>"
            ]
          },
          "metadata": {},
          "output_type": "display_data"
        }
      ],
      "source": [
        "\n",
        "plt.figure(figsize=(6, 4))\n",
        "plt.scatter(X_binary[y_binary == 0, 0], X_binary[y_binary == 0, 1], c='pink', label='Class 0')\n",
        "plt.scatter(X_binary[y_binary == 1, 0], X_binary[y_binary == 1, 1], c='blue', label='Class 1')\n",
        "plt.title(f\"Binary Data (Accuracy: {accuracy:.4f})\")\n",
        "plt.xlabel(\"Feature 1\")\n",
        "plt.ylabel(\"Feature 2\")\n",
        "plt.legend()\n",
        "plt.show()"
      ]
    },
    {
      "cell_type": "code",
      "execution_count": null,
      "metadata": {
        "id": "nDhBXnr2LH0T"
      },
      "outputs": [],
      "source": []
    }
  ],
  "metadata": {
    "colab": {
      "provenance": []
    },
    "kernelspec": {
      "display_name": "Python 3",
      "name": "python3"
    },
    "language_info": {
      "codemirror_mode": {
        "name": "ipython",
        "version": 3
      },
      "file_extension": ".py",
      "mimetype": "text/x-python",
      "name": "python",
      "nbconvert_exporter": "python",
      "pygments_lexer": "ipython3",
      "version": "3.12.6"
    }
  },
  "nbformat": 4,
  "nbformat_minor": 0
}
