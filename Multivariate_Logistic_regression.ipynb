{
 "cells": [
  {
   "cell_type": "markdown",
   "id": "83cd7271-51d8-4524-b4d7-478d8c07d5dc",
   "metadata": {},
   "source": [
    "#implementing Multivariate Logistic Regression"
   ]
  },
  {
   "cell_type": "code",
   "execution_count": 23,
   "id": "c5edc82f-99d5-469a-b852-e23c99f151c2",
   "metadata": {},
   "outputs": [],
   "source": [
    "import numpy as np\n",
    "import matplotlib.pyplot as plt\n",
    "from sklearn.datasets import load_iris\n",
    "from sklearn.model_selection import train_test_split\n",
    "from sklearn.preprocessing import StandardScaler"
   ]
  },
  {
   "cell_type": "code",
   "execution_count": 24,
   "id": "8f7b4aad-3777-41dd-922f-feafad1ba308",
   "metadata": {},
   "outputs": [],
   "source": [
    "def initialization(n_features, n_classes):\n",
    "    w = np.random.randn(n_classes, n_features)\n",
    "    b = np.zeros((n_classes, 1))\n",
    "    return w, b"
   ]
  },
  {
   "cell_type": "code",
   "execution_count": 25,
   "id": "bb1967d9-cd2e-4e1e-8703-5eb72e22ebd4",
   "metadata": {},
   "outputs": [],
   "source": [
    "def softmax(z):\n",
    "    z_exp = np.exp(z - np.max(z, axis=0, keepdims=True)) \n",
    "    a = z_exp / np.sum(z_exp, axis=0, keepdims=True)\n",
    "    return a"
   ]
  },
  {
   "cell_type": "code",
   "execution_count": 26,
   "id": "bab4469d-f1c6-42ef-8b13-edde456b392f",
   "metadata": {},
   "outputs": [],
   "source": [
    "def forward(x, w, b):\n",
    "    z = np.dot(w, x) + b\n",
    "    a = softmax(z)\n",
    "    return a"
   ]
  },
  {
   "cell_type": "code",
   "execution_count": 27,
   "id": "3f7bfde2-224a-4e25-9dfb-e6ad6e601a16",
   "metadata": {},
   "outputs": [],
   "source": [
    "def cost(a, y):\n",
    "    m = y.shape[1]\n",
    "    epsilon = 1e-15  # small value to avoid log(0)\n",
    "    j = -(1/m) * np.sum(y * np.log(a + epsilon))\n",
    "    return j"
   ]
  },
  {
   "cell_type": "code",
   "execution_count": 28,
   "id": "0b501324-ff12-48ba-a8d4-9ea6d53e202c",
   "metadata": {},
   "outputs": [],
   "source": [
    "def backpropagation(x, y, a):\n",
    "    m = x.shape[1]\n",
    "    dz = a - y  # derivative of the cost with respect to z\n",
    "    dw = (1/m) * np.dot(dz, x.T)\n",
    "    db = (1/m) * np.sum(dz, axis=1, keepdims=True)\n",
    "    return dw, db"
   ]
  },
  {
   "cell_type": "code",
   "execution_count": 29,
   "id": "50d5c0b4-3518-4176-8f2d-2e55aebc0d0c",
   "metadata": {},
   "outputs": [],
   "source": [
    "def gradient(w, b, dw, db, lr):\n",
    "    w = w - lr * dw\n",
    "    b = b - lr * db\n",
    "    return w, b"
   ]
  },
  {
   "cell_type": "code",
   "execution_count": 30,
   "id": "d64e9f84-8e66-4b27-bfa0-74f367328566",
   "metadata": {},
   "outputs": [],
   "source": [
    "def one_hot_encode(y, n_classes):\n",
    "    m = y.shape[0]\n",
    "    one_hot = np.zeros((n_classes, m))\n",
    "    one_hot[y, np.arange(m)] = 1\n",
    "    return one_hot"
   ]
  },
  {
   "cell_type": "code",
   "execution_count": 35,
   "id": "671eb844-d626-4025-9187-f99549c01a0f",
   "metadata": {},
   "outputs": [],
   "source": [
    "# Loading  the iris dataset\n",
    "data = load_iris()\n",
    "X = data.data       \n",
    "y = data.target  \n",
    "\n",
    "# Standardize the features for improved convergence\n",
    "scaler = StandardScaler()\n",
    "X_scaled = scaler.fit_transform(X)\n",
    "\n",
    "# Splitting the dataset into training and test sets\n",
    "X_train, X_test, y_train, y_test = train_test_split(X_scaled, y, test_size=0.2, random_state=10)\n",
    "\n",
    "X_train = X_train.T  \n",
    "X_test = X_test.T  \n",
    "\n",
    "# One-hot encode the labels\n",
    "n_classes = len(np.unique(y))\n",
    "y_train_encoded = one_hot_encode(y_train, n_classes)  \n",
    "y_test_encoded = one_hot_encode(y_test, n_classes) "
   ]
  },
  {
   "cell_type": "code",
   "execution_count": 39,
   "id": "6feaa156-1725-417c-8f7c-0396328d2c17",
   "metadata": {},
   "outputs": [
    {
     "name": "stdout",
     "output_type": "stream",
     "text": [
      "Iteration 0: Cost = 4.248494382569302\n",
      "Iteration 100: Cost = 1.9042672134596432\n",
      "Iteration 200: Cost = 0.8834240286151667\n",
      "Iteration 300: Cost = 0.5987721194260821\n",
      "Iteration 400: Cost = 0.4963683740345524\n",
      "Iteration 500: Cost = 0.44331301202963047\n",
      "Iteration 600: Cost = 0.40952004654622604\n",
      "Iteration 700: Cost = 0.3853308320448078\n",
      "Iteration 800: Cost = 0.3666748353526761\n",
      "Iteration 900: Cost = 0.35151978810797113\n",
      "\n",
      "Learned parameters:\n",
      "Weights:\n",
      " [[-0.47884106  0.83616007 -1.65045337 -1.37726722]\n",
      " [-1.46315303  0.62360152  0.31073266  0.38547104]\n",
      " [-1.00230524  1.2729917   0.34292238  1.92206357]]\n",
      "Bias:\n",
      " [[-0.38491854]\n",
      " [ 0.46703316]\n",
      " [-0.08211463]]\n"
     ]
    }
   ],
   "source": [
    "n_features = X_train.shape[0]\n",
    "w, b = initialization(n_features, n_classes)\n",
    "\n",
    "lr= 0.01\n",
    "n_iterations = 1000\n",
    "costs = []\n",
    "\n",
    "for i in range(n_iterations):\n",
    "    # Forward propagation\n",
    "    a = forward(X_train, w, b)\n",
    "    \n",
    "    # Computing the cost\n",
    "    current_cost = cost(a, y_train_encoded)\n",
    "    costs.append(current_cost)\n",
    "    \n",
    "    # Backpropagation\n",
    "    dw, db = backpropagation(X_train, y_train_encoded, a)\n",
    "    \n",
    "    # Update parameters using gradient descent\n",
    "    w, b = gradient(w, b, dw, db, lr)\n",
    "    \n",
    "    if i % 100 == 0:\n",
    "        print(f\"Iteration {i}: Cost = {current_cost}\")\n",
    "\n",
    "print(\"\\nLearned parameters:\")\n",
    "print(\"Weights:\\n\", w)\n",
    "print(\"Bias:\\n\", b)"
   ]
  },
  {
   "cell_type": "code",
   "execution_count": 40,
   "id": "5a185a05-276f-4145-b0f1-6fa85b10c53a",
   "metadata": {},
   "outputs": [
    {
     "name": "stdout",
     "output_type": "stream",
     "text": [
      "\n",
      "Test set accuracy: 90.00%\n"
     ]
    }
   ],
   "source": [
    "#testing\n",
    "a_test = forward(X_test, w, b)\n",
    "predictions = np.argmax(a_test, axis=0)\n",
    "accuracy = np.mean(predictions == y_test) * 100\n",
    "print(\"\\nTest set accuracy: {:.2f}%\".format(accuracy))"
   ]
  },
  {
   "cell_type": "code",
   "execution_count": 41,
   "id": "fb604a8b-5b7f-4087-9121-e1e5bd9f5a27",
   "metadata": {},
   "outputs": [
    {
     "data": {
      "image/png": "[encoded data removed]",
      "text/plain": [
       "<Figure size 640x480 with 1 Axes>"
      ]
     },
     "metadata": {},
     "output_type": "display_data"
    }
   ],
   "source": [
    "# Plot the cost history to visualize convergence\n",
    "plt.plot(costs)\n",
    "plt.xlabel(\"Iterations\")\n",
    "plt.ylabel(\"Cost (Categorical Cross-Entropy)\")\n",
    "plt.title(\"Cost Function Convergence on Iris Data\")\n",
    "plt.show()"
   ]
  },
  {
   "cell_type": "code",
   "execution_count": null,
   "id": "829bafee-9b4c-4b17-b18b-719f88c271fb",
   "metadata": {},
   "outputs": [],
   "source": []
  }
 ],
 "metadata": {
  "kernelspec": {
   "display_name": "Python 3 (ipykernel)",
   "language": "python",
   "name": "python3"
  },
  "language_info": {
   "codemirror_mode": {
    "name": "ipython",
    "version": 3
   },
   "file_extension": ".py",
   "mimetype": "text/x-python",
   "name": "python",
   "nbconvert_exporter": "python",
   "pygments_lexer": "ipython3",
   "version": "3.12.6"
  }
 },
 "nbformat": 4,
 "nbformat_minor": 5
}
