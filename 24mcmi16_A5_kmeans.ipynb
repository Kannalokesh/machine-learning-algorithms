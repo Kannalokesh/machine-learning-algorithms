{
 "cells": [
  {
   "cell_type": "markdown",
   "id": "9a582221-f3b9-4091-b53b-e2d5e5b0e4d0",
   "metadata": {},
   "source": [
    "Implementing K-Means Algorithm"
   ]
  },
  {
   "cell_type": "code",
   "execution_count": 19,
   "id": "0ab3cca2-c35b-46bb-8c80-df424dc7ccc7",
   "metadata": {},
   "outputs": [],
   "source": [
    "import numpy as np\n",
    "import matplotlib.pyplot as plt\n",
    "from sklearn.datasets import make_blobs "
   ]
  },
  {
   "cell_type": "code",
   "execution_count": 20,
   "id": "568ebb1a-c602-4d51-9579-ae1b7c8cb9cc",
   "metadata": {},
   "outputs": [
    {
     "name": "stdout",
     "output_type": "stream",
     "text": [
      "(500, 2)\n"
     ]
    }
   ],
   "source": [
    "np.random.seed(10)\n",
    "x, y = make_blobs(centers=3, n_samples=500, n_features=2, shuffle=True, random_state=123)\n",
    "print(x.shape)"
   ]
  },
  {
   "cell_type": "code",
   "execution_count": 21,
   "id": "3204e74f-8a04-4e26-b0f5-44f6f9b263b7",
   "metadata": {},
   "outputs": [
    {
     "name": "stdout",
     "output_type": "stream",
     "text": [
      "3\n"
     ]
    }
   ],
   "source": [
    "k= len(np.unique(y))\n",
    "print(k)"
   ]
  },
  {
   "cell_type": "code",
   "execution_count": 22,
   "id": "6155d464-5d71-42a5-b707-4540e36b5b0b",
   "metadata": {},
   "outputs": [],
   "source": [
    "def eu_dist(p1,p2):\n",
    "    return np.sqrt(np.sum((p1-p2)**2))"
   ]
  },
  {
   "cell_type": "code",
   "execution_count": 23,
   "id": "d225c0e1-ebb7-477d-93b1-5a18ddfe4883",
   "metadata": {},
   "outputs": [],
   "source": [
    "#nearest centroid\n",
    "def near_centroid(sample,centroids):\n",
    "    dist=[eu_dist(sample,point) for point in centroids]\n",
    "    near_indx=np.argmin(dist)\n",
    "    return near_indx"
   ]
  },
  {
   "cell_type": "code",
   "execution_count": 24,
   "id": "1b576a84-5830-462f-93ca-df7532ab7901",
   "metadata": {},
   "outputs": [],
   "source": [
    "#creating clusters  \n",
    "def create_cluster(centroids):\n",
    "    #assign samples to clusters\n",
    "    clusters=[[] for i in range(k)]\n",
    "    for idx,sample in enumerate(x):\n",
    "        centroid_indx=near_centroid(sample,centroids)\n",
    "        clusters[centroid_indx].append(idx)\n",
    "    return clusters"
   ]
  },
  {
   "cell_type": "code",
   "execution_count": 44,
   "id": "dfc46801-b6a2-4ae8-8ad7-dc2e9d6c0cf4",
   "metadata": {},
   "outputs": [],
   "source": [
    "#new centroids\n",
    "def get_centroids(clusters,n_features):\n",
    "    centroids=np.zeros((k,n_features))\n",
    "    for idx,cluster in enumerate(clusters):\n",
    "        mean=np.mean(x[cluster],axis=0)\n",
    "        centroids[idx]=mean\n",
    "    return centroids"
   ]
  },
  {
   "cell_type": "code",
   "execution_count": 46,
   "id": "4b291257-e268-4e45-a68d-8451e27e9ede",
   "metadata": {},
   "outputs": [],
   "source": [
    "#covergence\n",
    "def converged(centroids_old,centroids):\n",
    "    dist=[eu_dist(centroids_old[i],centroids[i]) for i in range(k)]\n",
    "    return sum(dist)==0"
   ]
  },
  {
   "cell_type": "code",
   "execution_count": 55,
   "id": "d1d09b89-5d68-4dfc-acb8-6354def930d6",
   "metadata": {},
   "outputs": [],
   "source": [
    "#cluster labels\n",
    "def cluster_labels(clusters,n_samples):\n",
    "    labels=np.zeros(n_samples)\n",
    "    for cluster_idx,cluster in enumerate(clusters):\n",
    "        for sample in cluster:\n",
    "            labels[sample]=cluster_idx\n",
    "    return labels"
   ]
  },
  {
   "cell_type": "code",
   "execution_count": 68,
   "id": "7c5d6e0a-c4f8-4595-9088-10fa57fc2126",
   "metadata": {},
   "outputs": [],
   "source": [
    "def Kmeans(x,k,max_iters):\n",
    "    \n",
    "    n_samples,n_features=x.shape\n",
    "    clusters=[[] for _ in range(k)]\n",
    "    centroids=[]\n",
    "    \n",
    "    #randomly choosing centroids\n",
    "    random_sampindx=np.random.choice(n_samples,k,replace=False)\n",
    "    centroids=[x[i] for i in random_sampindx]\n",
    "\n",
    "    for _ in range(max_iters):\n",
    "        #assign clusters to samples\n",
    "        clusters=create_cluster(centroids)\n",
    "\n",
    "        #new centroids\n",
    "        centroids_old=centroids\n",
    "        centroids=get_centroids(clusters,n_features)\n",
    "\n",
    "        if converged(centroids_old,centroids):\n",
    "            break\n",
    "\n",
    "    #return the samples with labelling\n",
    "    return cluster_labels(clusters,n_samples),clusters,centroids\n",
    " "
   ]
  },
  {
   "cell_type": "code",
   "execution_count": 69,
   "id": "8c7da07b-769b-4e10-adb5-a0c3c8b4a1cd",
   "metadata": {},
   "outputs": [
    {
     "data": {
      "text/plain": [
       "array([2., 0., 0., 2., 0., 2., 0., 0., 1., 1., 1., 2., 0., 1., 1., 0., 0.,\n",
       "       0., 2., 0., 0., 0., 1., 2., 0., 1., 1., 0., 2., 1., 0., 2., 2., 0.,\n",
       "       0., 0., 2., 1., 2., 2., 1., 0., 1., 2., 0., 1., 1., 0., 2., 2., 1.,\n",
       "       0., 0., 2., 1., 0., 1., 1., 2., 0., 1., 1., 0., 1., 0., 1., 0., 2.,\n",
       "       1., 2., 0., 1., 0., 0., 0., 0., 0., 1., 0., 2., 2., 2., 1., 1., 2.,\n",
       "       0., 2., 1., 1., 0., 0., 1., 2., 2., 2., 2., 2., 2., 1., 0., 2., 1.,\n",
       "       1., 2., 0., 2., 0., 1., 0., 0., 0., 2., 2., 0., 0., 2., 1., 0., 0.,\n",
       "       2., 2., 2., 0., 0., 0., 0., 0., 1., 1., 1., 0., 2., 0., 0., 1., 1.,\n",
       "       0., 1., 1., 2., 1., 1., 0., 1., 2., 1., 2., 0., 1., 2., 0., 2., 0.,\n",
       "       2., 1., 1., 1., 0., 2., 0., 0., 1., 2., 1., 1., 0., 2., 2., 0., 1.,\n",
       "       1., 2., 0., 2., 2., 1., 2., 2., 2., 1., 0., 2., 0., 1., 0., 1., 2.,\n",
       "       1., 2., 2., 2., 1., 2., 0., 0., 0., 2., 1., 2., 2., 0., 1., 0., 1.,\n",
       "       0., 0., 2., 1., 1., 1., 1., 0., 0., 1., 0., 2., 2., 2., 0., 1., 0.,\n",
       "       1., 0., 0., 1., 2., 1., 0., 1., 0., 0., 1., 1., 2., 0., 2., 1., 0.,\n",
       "       1., 2., 2., 2., 2., 1., 1., 1., 0., 2., 0., 2., 0., 1., 1., 0., 2.,\n",
       "       1., 1., 1., 2., 2., 0., 2., 2., 2., 0., 0., 1., 1., 1., 2., 2., 2.,\n",
       "       0., 2., 0., 0., 0., 2., 0., 0., 1., 1., 1., 0., 0., 0., 1., 1., 1.,\n",
       "       0., 2., 2., 1., 0., 0., 1., 1., 2., 2., 2., 0., 0., 2., 2., 1., 1.,\n",
       "       1., 0., 2., 2., 2., 1., 1., 1., 1., 0., 1., 0., 2., 0., 2., 2., 2.,\n",
       "       1., 0., 1., 1., 2., 1., 2., 1., 2., 0., 0., 0., 0., 1., 1., 2., 0.,\n",
       "       1., 1., 2., 1., 1., 2., 0., 1., 0., 1., 2., 2., 1., 1., 2., 1., 2.,\n",
       "       2., 2., 0., 1., 1., 0., 1., 2., 2., 1., 2., 2., 2., 0., 0., 0., 1.,\n",
       "       0., 1., 0., 0., 2., 2., 1., 1., 0., 0., 2., 2., 2., 0., 0., 0., 0.,\n",
       "       2., 0., 2., 0., 1., 2., 0., 0., 1., 1., 2., 2., 2., 0., 1., 0., 1.,\n",
       "       1., 0., 2., 2., 2., 0., 0., 2., 1., 1., 2., 2., 0., 1., 1., 2., 0.,\n",
       "       2., 2., 1., 0., 1., 2., 1., 0., 1., 1., 1., 2., 2., 2., 1., 1., 2.,\n",
       "       0., 2., 1., 0., 2., 0., 2., 2., 2., 2., 1., 1., 1., 1., 1., 0., 0.,\n",
       "       0., 2., 2., 1., 1., 2., 1., 0., 0., 0., 0., 1., 1., 2., 2., 1., 1.,\n",
       "       2., 2., 2., 1., 0., 2., 2., 2., 2., 1., 1., 0., 1., 2., 1., 2., 1.,\n",
       "       2., 2., 1., 0., 1., 0., 0.])"
      ]
     },
     "execution_count": 69,
     "metadata": {},
     "output_type": "execute_result"
    }
   ],
   "source": [
    "max_iters=100\n",
    "y_pred,clusters,centroids=Kmeans(x,k,max_iters)\n",
    "y_pred"
   ]
  },
  {
   "cell_type": "code",
   "execution_count": 72,
   "id": "f605c9b2-abf3-4450-9286-7b60c69773b5",
   "metadata": {},
   "outputs": [
    {
     "data": {
      "image/png": "[encoded data removed]",
      "text/plain": [
       "<Figure size 800x600 with 1 Axes>"
      ]
     },
     "metadata": {},
     "output_type": "display_data"
    }
   ],
   "source": [
    "fig, ax = plt.subplots(figsize=(8, 6))\n",
    "\n",
    "for i, index in enumerate(clusters):\n",
    "    point = x[index].T\n",
    "    ax.scatter(*point, label=f\"Cluster {i}\")\n",
    "\n",
    "for point in centroids:\n",
    "    ax.scatter(*point, marker=\"x\", color=\"black\", linewidth=2)\n",
    "\n",
    "plt.show()\n",
    "        "
   ]
  },
  {
   "cell_type": "code",
   "execution_count": null,
   "id": "b9ca54c2-44fd-4b86-a7da-a164550ec37c",
   "metadata": {},
   "outputs": [],
   "source": []
  }
 ],
 "metadata": {
  "kernelspec": {
   "display_name": "Python 3 (ipykernel)",
   "language": "python",
   "name": "python3"
  },
  "language_info": {
   "codemirror_mode": {
    "name": "ipython",
    "version": 3
   },
   "file_extension": ".py",
   "mimetype": "text/x-python",
   "name": "python",
   "nbconvert_exporter": "python",
   "pygments_lexer": "ipython3",
   "version": "3.12.6"
  }
 },
 "nbformat": 4,
 "nbformat_minor": 5
}
