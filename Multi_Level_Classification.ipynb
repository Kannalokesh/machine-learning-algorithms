{
 "cells": [
  {
   "cell_type": "markdown",
   "id": "9e440eb2-af03-4564-bf0a-b37a0db6e571",
   "metadata": {},
   "source": [
    "Implementing Multi level Classification"
   ]
  },
  {
   "cell_type": "code",
   "execution_count": 1,
   "id": "e53351e9-9791-4521-9d1d-dd682f43c87f",
   "metadata": {},
   "outputs": [],
   "source": [
    "import numpy as np\n",
    "from sklearn.datasets import load_iris\n",
    "from sklearn.model_selection import train_test_split\n",
    "from sklearn.preprocessing import StandardScaler\n",
    "from sklearn.metrics import accuracy_score, confusion_matrix"
   ]
  },
  {
   "cell_type": "code",
   "execution_count": 11,
   "id": "b1d8b7f7-bf3d-4d44-b18f-7f0159edefa2",
   "metadata": {},
   "outputs": [
    {
     "name": "stdout",
     "output_type": "stream",
     "text": [
      "Training shape: (120, 4)\n",
      "Test shape: (30, 4)\n"
     ]
    }
   ],
   "source": [
    "# Load the Iris dataset\n",
    "data = load_iris()\n",
    "X, y = data.data, data.target\n",
    "\n",
    "# Split into training and testing sets\n",
    "X_train, X_test, y_train, y_test = train_test_split(X, y, train_size=0.8, random_state=10)\n",
    "\n",
    "# Standardize features\n",
    "scaler = StandardScaler()\n",
    "X_train = scaler.fit_transform(X_train)\n",
    "X_test = scaler.transform(X_test)\n",
    "\n",
    "print(\"Training shape:\", X_train.shape)\n",
    "print(\"Test shape:\", X_test.shape)"
   ]
  },
  {
   "cell_type": "code",
   "execution_count": 12,
   "id": "c1a976d8-6902-4912-94a1-529a6ebfa2fc",
   "metadata": {},
   "outputs": [],
   "source": [
    "class MultinomialLogisticRegression:\n",
    "    def __init__(self, learning_rate=0.001, max_iter=1000, tol=1e-4):\n",
    "        self.learning_rate = learning_rate\n",
    "        self.max_iter = max_iter\n",
    "        self.tol = tol          # Tolerance for early stopping\n",
    "        self.weights = None     # Weight matrix (n_features x n_classes)\n",
    "        self.bias = None        # Bias vector (n_classes,)\n",
    "\n",
    "    def softmax(self, z):\n",
    "        # Numerically stable softmax\n",
    "        z_exp = np.exp(z - np.max(z, axis=1, keepdims=True))\n",
    "        return z_exp / np.sum(z_exp, axis=1, keepdims=True)\n",
    "\n",
    "    def fit(self, X, y):\n",
    "        n_samples, n_features = X.shape\n",
    "        n_classes = len(np.unique(y))\n",
    "\n",
    "        # Initialize weights and bias\n",
    "        self.weights = np.zeros((n_features, n_classes))\n",
    "        self.bias = np.zeros(n_classes)\n",
    "\n",
    "        # Convert labels to one-hot encoding\n",
    "        y_onehot = np.eye(n_classes)[y]\n",
    "\n",
    "        # Gradient Descent\n",
    "        prev_loss = float('inf')\n",
    "        for epoch in range(self.max_iter):\n",
    "            # Forward pass\n",
    "            linear_model = np.dot(X, self.weights) + self.bias\n",
    "            probabilities = self.softmax(linear_model)\n",
    "\n",
    "            # Compute cross-entropy loss\n",
    "            loss = -np.mean(np.sum(y_onehot * np.log(probabilities + 1e-15), axis=1))\n",
    "            \n",
    "            # Check for early stopping\n",
    "            if abs(prev_loss - loss) < self.tol:\n",
    "                print(f\"Early stopping at epoch {epoch}\")\n",
    "                break\n",
    "            prev_loss = loss\n",
    "\n",
    "            # Backward pass: compute gradients\n",
    "            gradient = (probabilities - y_onehot) / n_samples\n",
    "            grad_weights = np.dot(X.T, gradient)\n",
    "            grad_bias = np.sum(gradient, axis=0)\n",
    "\n",
    "            # Update parameters\n",
    "            self.weights -= self.learning_rate * grad_weights\n",
    "            self.bias -= self.learning_rate * grad_bias\n",
    "\n",
    "    def predict(self, X):\n",
    "        linear_model = np.dot(X, self.weights) + self.bias\n",
    "        probabilities = self.softmax(linear_model)\n",
    "        return np.argmax(probabilities, axis=1)"
   ]
  },
  {
   "cell_type": "code",
   "execution_count": 13,
   "id": "a3a7ee50-71be-43cf-a1ef-9e4c39c9dc4b",
   "metadata": {},
   "outputs": [
    {
     "name": "stdout",
     "output_type": "stream",
     "text": [
      "Early stopping at epoch 713\n"
     ]
    }
   ],
   "source": [
    "# Initialize and train the model\n",
    "model = MultinomialLogisticRegression(learning_rate=0.1, max_iter=1000)\n",
    "model.fit(X_train, y_train)"
   ]
  },
  {
   "cell_type": "code",
   "execution_count": 14,
   "id": "d61a6492-f446-4821-aeea-0f08b1b772b5",
   "metadata": {},
   "outputs": [],
   "source": [
    "# Predictions\n",
    "y_pred_train = model.predict(X_train)\n",
    "y_pred_test = model.predict(X_test)"
   ]
  },
  {
   "cell_type": "code",
   "execution_count": 15,
   "id": "a54f1cd4-cc4b-4d6e-a83b-a564a998c200",
   "metadata": {},
   "outputs": [
    {
     "name": "stdout",
     "output_type": "stream",
     "text": [
      "\n",
      "Training Accuracy: 0.9666666666666667\n",
      "Test Accuracy: 1.0\n",
      "Confusion Matrix:\n",
      " [[10  0  0]\n",
      " [ 0 13  0]\n",
      " [ 0  0  7]]\n"
     ]
    }
   ],
   "source": [
    "# Evaluate\n",
    "print(\"\\nTraining Accuracy:\", accuracy_score(y_train, y_pred_train))\n",
    "print(\"Test Accuracy:\", accuracy_score(y_test, y_pred_test))\n",
    "print(\"Confusion Matrix:\\n\", confusion_matrix(y_test, y_pred_test))"
   ]
  },
  {
   "cell_type": "code",
   "execution_count": null,
   "id": "ddcf7162-55ff-4ade-bc8f-bc9eca7a1230",
   "metadata": {},
   "outputs": [],
   "source": []
  }
 ],
 "metadata": {
  "kernelspec": {
   "display_name": "Python 3 (ipykernel)",
   "language": "python",
   "name": "python3"
  },
  "language_info": {
   "codemirror_mode": {
    "name": "ipython",
    "version": 3
   },
   "file_extension": ".py",
   "mimetype": "text/x-python",
   "name": "python",
   "nbconvert_exporter": "python",
   "pygments_lexer": "ipython3",
   "version": "3.12.6"
  }
 },
 "nbformat": 4,
 "nbformat_minor": 5
}
