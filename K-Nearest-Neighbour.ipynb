{
 "cells": [
  {
   "cell_type": "markdown",
   "id": "789d84d4-3778-4aa0-84ee-864f1e81b42a",
   "metadata": {},
   "source": [
    "Implementing K Nearest Neighbour from scratch"
   ]
  },
  {
   "cell_type": "code",
   "execution_count": 28,
   "id": "1c4028b5-d8bd-4de3-84b4-8860cf1a0c6c",
   "metadata": {},
   "outputs": [],
   "source": [
    "import numpy as np\n",
    "import pandas as pd\n",
    "import matplotlib.pyplot as plt\n",
    "import random\n",
    "import sklearn\n",
    "from sklearn import datasets"
   ]
  },
  {
   "cell_type": "code",
   "execution_count": 5,
   "id": "96472eb8-63ce-4232-b3ac-bf1b23dcd044",
   "metadata": {},
   "outputs": [],
   "source": [
    "#distance\n",
    "def eu_dist(p1,p2):\n",
    "    return np.sqrt(np.sum((np.array(p1)-np.array(p2))**2))"
   ]
  },
  {
   "cell_type": "code",
   "execution_count": 18,
   "id": "7d28aa37-15bf-4b84-8033-ea5a15bf6fd5",
   "metadata": {},
   "outputs": [],
   "source": [
    "#predicting the class\n",
    "def knn_pred(data,labels,test,k):\n",
    "    dist=[]\n",
    "    n=len(data)\n",
    "    for i in range(n):\n",
    "        d=eu_dist(test,data[i])\n",
    "        dist.append((labels[i],d))\n",
    "    dist.sort(key=lambda x: x[1])\n",
    "    k_near=[label for label,_ in dist[:k]]\n",
    "    countA=0\n",
    "    countB=0\n",
    "    for i in range(len(k_near)):\n",
    "        if k_near[i]=='A':\n",
    "            countA+=1\n",
    "        else:\n",
    "            countB+=1\n",
    "    if countA>countB:\n",
    "        return 'A'\n",
    "    else:\n",
    "        return 'B'\n",
    "            \n",
    "        "
   ]
  },
  {
   "cell_type": "code",
   "execution_count": 19,
   "id": "ff670ae9-7128-449d-ade8-687ff885c922",
   "metadata": {},
   "outputs": [],
   "source": [
    "data=[[1,2],[2,3],[5,6],[7,8],[9,10],[8,9]]\n",
    "labels=['A','A','A','B','B','B']\n",
    "test=[[6,7]]\n",
    "k=5"
   ]
  },
  {
   "cell_type": "code",
   "execution_count": 20,
   "id": "8c8e5e88-eb98-483b-91df-d8650407b15a",
   "metadata": {},
   "outputs": [
    {
     "name": "stdout",
     "output_type": "stream",
     "text": [
      "B\n"
     ]
    }
   ],
   "source": [
    "predict=knn_pred(data,labels,test,k)\n",
    "print(predict)"
   ]
  },
  {
   "cell_type": "code",
   "execution_count": null,
   "id": "90b7e04b-2306-4359-bb16-5af1313560af",
   "metadata": {},
   "outputs": [],
   "source": []
  }
 ],
 "metadata": {
  "kernelspec": {
   "display_name": "Python 3 (ipykernel)",
   "language": "python",
   "name": "python3"
  },
  "language_info": {
   "codemirror_mode": {
    "name": "ipython",
    "version": 3
   },
   "file_extension": ".py",
   "mimetype": "text/x-python",
   "name": "python",
   "nbconvert_exporter": "python",
   "pygments_lexer": "ipython3",
   "version": "3.12.6"
  }
 },
 "nbformat": 4,
 "nbformat_minor": 5
}
