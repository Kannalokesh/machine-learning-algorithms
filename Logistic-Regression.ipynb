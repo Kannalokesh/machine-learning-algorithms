{
 "cells": [
  {
   "cell_type": "markdown",
   "id": "842a1c4d-90da-4c7b-bf1c-188f7c0edc95",
   "metadata": {},
   "source": [
    "Logistic Regression "
   ]
  },
  {
   "cell_type": "markdown",
   "id": "9606c732",
   "metadata": {},
   "source": [
    "Implentation of Logistic Regression With user defined methods"
   ]
  },
  {
   "cell_type": "code",
   "execution_count": 43,
   "id": "2f0dfe25-1018-4349-8957-d519e9e0db12",
   "metadata": {},
   "outputs": [],
   "source": [
    "import numpy as np\n",
    "import pandas as pd\n",
    "from sklearn import datasets\n",
    "from sklearn.model_selection import train_test_split\n",
    "import matplotlib.pyplot as plt"
   ]
  },
  {
   "cell_type": "code",
   "execution_count": 44,
   "id": "b5e331e8-bb2c-49d8-a996-8c8aadecb3fb",
   "metadata": {},
   "outputs": [],
   "source": [
    "ds=datasets.load_breast_cancer()\n",
    "x1=ds.data\n",
    "y1=ds.target\n",
    "x_train,x_test,y_train,y_test=train_test_split(x,y,train_size=0.8,random_state=10)"
   ]
  },
  {
   "cell_type": "code",
   "execution_count": 45,
   "id": "691dfaa9-a4db-40ec-9cae-e9a159af2d68",
   "metadata": {},
   "outputs": [],
   "source": [
    "def sigmoid(x):\n",
    "    x = np.clip(x, -500, 500)  # Avoiding extreme values, for large negative x , calculation goes large positive making it overflow\n",
    "    #without there will be a warning only\n",
    "    return 1/(1+np.exp(-x))"
   ]
  },
  {
   "cell_type": "code",
   "execution_count": 46,
   "id": "3be181b5-a387-4134-8487-dda12b1caf80",
   "metadata": {},
   "outputs": [],
   "source": [
    "def fit(x1_train,y1_train,l,n_iter):\n",
    "    n_samples,n_features=x1_train.shape\n",
    "    w=np.zeros(n_features)\n",
    "    b=0\n",
    "    for i in range(n_iter):\n",
    "        linear_pred=np.dot(x1_train,w)+b\n",
    "        prediction=sigmoid(linear_pred)\n",
    "        w_grad=(1/n_samples)*np.dot(x_train.T,(prediction-y1_train))\n",
    "        b_grad=(1/n_samples)*np.sum(prediction-y1_train)\n",
    "        w=w-w_grad*l\n",
    "        b=b-b_grad*l\n",
    "    return w,b"
   ]
  },
  {
   "cell_type": "code",
   "execution_count": 47,
   "id": "7b477b35-dcce-4c2a-a4db-b18ac7992cac",
   "metadata": {},
   "outputs": [],
   "source": [
    "def predict(x1_test,w1,b1):\n",
    "    linear_pred=np.dot(x1_test,w1)+b1\n",
    "    y_pred=sigmoid(linear_pred)\n",
    "    predic=[0 if y<=0.5 else 1 for y in y_pred]\n",
    "    return predic"
   ]
  },
  {
   "cell_type": "code",
   "execution_count": 48,
   "id": "3acef911-0bd8-49d0-9991-42692f1252f2",
   "metadata": {},
   "outputs": [],
   "source": [
    "l=0.01\n",
    "n_iters=1000\n",
    "w,b=fit(x_train,y_train,l,n_iters)\n",
    "y_predict=predict(x_test,w,b)\n"
   ]
  },
  {
   "cell_type": "code",
   "execution_count": 49,
   "id": "8aa7b443-d3bf-4516-9ac4-2b1391b28065",
   "metadata": {},
   "outputs": [
    {
     "name": "stdout",
     "output_type": "stream",
     "text": [
      "[0 1 1 0 1 1 1 1 0 0 1 1 0 1 0 0 1 1 1 1 0 0 1 1 0 0 1 0 1 1 1 1 0 1 1 1 1\n",
      " 1 1 1 1 1 1 0 1 0 0 0 0 1 1 1 0 1 1 0 0 1 1 1 0 1 0 0 1 1 1 1 0 0 1 1 1 1\n",
      " 1 0 1 1 0 0 1 1 0 1 1 1 1 1 1 1 1 1 0 1 1 1 0 1 0 1 0 0 1 1 1 1 0 0 1 1 1\n",
      " 1 0 0]\n"
     ]
    }
   ],
   "source": [
    "print(y_test)"
   ]
  },
  {
   "cell_type": "code",
   "execution_count": 50,
   "id": "022204ae-858d-4482-bdca-a24a1d076fce",
   "metadata": {},
   "outputs": [
    {
     "name": "stdout",
     "output_type": "stream",
     "text": [
      "[0, 1, 1, 0, 1, 1, 1, 0, 0, 1, 1, 1, 1, 1, 0, 0, 1, 1, 1, 0, 1, 1, 1, 1, 0, 0, 1, 0, 1, 1, 1, 1, 0, 1, 1, 1, 1, 1, 1, 1, 1, 1, 1, 1, 1, 0, 0, 0, 0, 1, 1, 1, 0, 1, 1, 0, 0, 1, 1, 1, 0, 1, 1, 1, 1, 1, 1, 1, 0, 1, 1, 1, 1, 1, 1, 1, 1, 1, 0, 0, 1, 1, 0, 1, 1, 1, 1, 1, 1, 1, 1, 1, 0, 1, 1, 1, 0, 1, 0, 1, 0, 0, 1, 1, 1, 1, 0, 0, 1, 1, 1, 1, 0, 0]\n"
     ]
    }
   ],
   "source": [
    "print(y_predict)"
   ]
  },
  {
   "cell_type": "code",
   "execution_count": 51,
   "id": "a003c2c9-27ab-4fb9-b0ad-ada8550e0408",
   "metadata": {},
   "outputs": [],
   "source": [
    "def accuracy(y1_predict,y1_test):\n",
    "    return np.sum(y1_predict==y1_test)/len(y1_test)"
   ]
  },
  {
   "cell_type": "code",
   "execution_count": 52,
   "id": "a3681c10-f573-4533-8980-98bbd114b68f",
   "metadata": {},
   "outputs": [
    {
     "name": "stdout",
     "output_type": "stream",
     "text": [
      "0.9035087719298246\n"
     ]
    }
   ],
   "source": [
    "acc=accuracy(y_predict,y_test)\n",
    "print(acc)"
   ]
  },
  {
   "cell_type": "code",
   "execution_count": null,
   "id": "b0ef0eef-fff7-45a8-9272-de894ad0e81f",
   "metadata": {},
   "outputs": [],
   "source": []
  }
 ],
 "metadata": {
  "kernelspec": {
   "display_name": "Python 3 (ipykernel)",
   "language": "python",
   "name": "python3"
  },
  "language_info": {
   "codemirror_mode": {
    "name": "ipython",
    "version": 3
   },
   "file_extension": ".py",
   "mimetype": "text/x-python",
   "name": "python",
   "nbconvert_exporter": "python",
   "pygments_lexer": "ipython3",
   "version": "3.12.6"
  }
 },
 "nbformat": 4,
 "nbformat_minor": 5
}
